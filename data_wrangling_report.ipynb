{
 "cells": [
  {
   "cell_type": "markdown",
   "metadata": {},
   "source": [
    "# introduction "
   ]
  },
  {
   "cell_type": "markdown",
   "metadata": {},
   "source": [
    "WeRateDogs is a twitter account rate the dog stages and has  millions of users\n",
    "\n",
    "I wrangled the data in the wrangle_act.ipynb, and the wrangling process included the following steps:"
   ]
  },
  {
   "cell_type": "markdown",
   "metadata": {},
   "source": [
    "# data gathering \n",
    "\n",
    "1- i downloaded the data set `twitter_archive_enhanced.csv` provided in the workspace  \n",
    "\n",
    "2- then gathering the `tweets` data set using twitter api tweepy \n",
    "\n",
    "3- then gathering the `image_predictions.tsv` provided in the workspace "
   ]
  },
  {
   "cell_type": "markdown",
   "metadata": {},
   "source": [
    "# data assessing \n",
    "\n",
    "### quality \n",
    "    \n",
    "   **twitter enchanced archive data set twEnArch `twitter_archive_enhanced`**\n",
    "   \n",
    "    1- there is decimal rating and the numerator column is int instead of float\n",
    "    \n",
    "    2-  wrong rating numeratores were extracted from the text column\n",
    "   \n",
    "    3- there is no need of column denominator (we add scale to numerator column header )    \n",
    "\n",
    "    4- null values in retweets columns\n",
    "\n",
    "    5- source column need to reformating \n",
    "\n",
    "    6- timestamp data type to date \n",
    "    \n",
    "    7- in_replay_to status id and user id columns need to be converted to appropriate data type  \n",
    "    \n",
    "    8- breeds of the dog is inaccurate \n",
    "\n",
    "    9- name columns have null values and misleading values like 'a' \n",
    "    \n",
    "### tidiness \n",
    "\n",
    "    1- there are three data sets insead of one master data set \n",
    "    \n",
    "    2- dog type can be represented in one column instead of three \n",
    "\n",
    "\n",
    "note : \n",
    "\n",
    "there are more quality issues but i choose just 8 \n",
    "\n",
    "\n",
    "\n"
   ]
  },
  {
   "cell_type": "markdown",
   "metadata": {},
   "source": [
    "# cleaning data \n",
    "      \n",
    "1- there is decimal rating and the numerator column is int instead of float\n",
    " \n",
    "i converted the data type to float \n",
    "    \n",
    "2-  wrong rating numeratores were extracted from the text column\n",
    "\n",
    "I reproduced the rating from the text using regx then \n",
    "\n",
    "3- there is no need of column denominator (we add scale to numerator column header )    \n",
    "\n",
    "I added teh scale to the numerator column header then removed the rating_denominator column\n",
    "    \n",
    "4- null values in retweets columns\n",
    "\n",
    "I deleted the rows which have the retweets columns != None so that i will analysis the orgin tweets \n",
    "\n",
    "5- source column need to reformating \n",
    "\n",
    "I extracted the information from the source column and replace it \n",
    "\n",
    "6- timestamp data type to date \n",
    "\n",
    "I converted the timestamp to date data type \n",
    "\n",
    "7- in_replay_to status id and user id columns need to be converted to appropriate data type  \n",
    "\n",
    "I converted these column to string after conveting its content from exp format to int format\n",
    "\n",
    "8- breeds of the dog is inaccurate \n",
    "\n",
    "i removed the rows which have inaccurate breeds types\n",
    "\n",
    "9- name columns have null values and misleading values like 'a' \n",
    "\n",
    "I re_extract the name of the dog from the text usin regex then replace it \n",
    "\n",
    "### tidiness \n",
    "\n",
    "1- there are three data sets insead of one master data set \n",
    "\n",
    "I used merg funtion to make the master data set `df` by joining the three data sets `twEnArch`, `imPredictions`, `tweets`  \n",
    "\n",
    "2- dog type can be represented in one column `dog_stages` instead of four `doggo\tfloofer\tpupper\tpuppo` \n",
    "\n",
    "I used merg funtion to calculate the dog stages column from the four columns "
   ]
  },
  {
   "cell_type": "code",
   "execution_count": null,
   "metadata": {},
   "outputs": [],
   "source": []
  }
 ],
 "metadata": {
  "kernelspec": {
   "display_name": "Python 3",
   "language": "python",
   "name": "python3"
  },
  "language_info": {
   "codemirror_mode": {
    "name": "ipython",
    "version": 3
   },
   "file_extension": ".py",
   "mimetype": "text/x-python",
   "name": "python",
   "nbconvert_exporter": "python",
   "pygments_lexer": "ipython3",
   "version": "3.6.3"
  }
 },
 "nbformat": 4,
 "nbformat_minor": 2
}
